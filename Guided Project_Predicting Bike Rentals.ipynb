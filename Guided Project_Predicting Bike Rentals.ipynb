{
 "cells": [
  {
   "cell_type": "markdown",
   "metadata": {
    "collapsed": true
   },
   "source": [
    "# Introduction\n",
    "\n",
    "In this project, we will be looking at the data from the communal bike sharing scheme in Washington D.C. The specific dataset was compiled by Hadi Fanaee-T at the University of Porto. [(download here)](http://archive.ics.uci.edu/ml/datasets/Bike+Sharing+Dataset)\n",
    "\n",
    "Our goal will be to predict the total number of bikes people rented in a given hour (cnt). To accomplish this, we will be building a few different machine learning models and evaluating their performance.\n",
    "\n",
    "Here is a brief description list of the relevant columns:\n",
    "* instant- unique ID for each row of data\n",
    "* dteday\n",
    "* season\n",
    "* yr\n",
    "* mnth\n",
    "* hr\n",
    "* holiday\n",
    "* weekday - day of week (0-7)\n",
    "* workingday\n",
    "* weathersit - categorical\n",
    "* temp - on a 0-1 scale\n",
    "* atemp - adjusted temperature\n",
    "* hum - humidity, 0-1 scale\n",
    "* windspeed - wind speed, 0-1 scale\n",
    "* casual - number of casual riders (people who hadn't already signed up)\n",
    "* registered - number of registered riders\n",
    "* cnt - total number of bike rentals (casual + registered)"
   ]
  },
  {
   "cell_type": "code",
   "execution_count": 1,
   "metadata": {
    "collapsed": false
   },
   "outputs": [
    {
     "data": {
      "text/html": [
       "<div>\n",
       "<style scoped>\n",
       "    .dataframe tbody tr th:only-of-type {\n",
       "        vertical-align: middle;\n",
       "    }\n",
       "\n",
       "    .dataframe tbody tr th {\n",
       "        vertical-align: top;\n",
       "    }\n",
       "\n",
       "    .dataframe thead th {\n",
       "        text-align: right;\n",
       "    }\n",
       "</style>\n",
       "<table border=\"1\" class=\"dataframe\">\n",
       "  <thead>\n",
       "    <tr style=\"text-align: right;\">\n",
       "      <th></th>\n",
       "      <th>instant</th>\n",
       "      <th>dteday</th>\n",
       "      <th>season</th>\n",
       "      <th>yr</th>\n",
       "      <th>mnth</th>\n",
       "      <th>hr</th>\n",
       "      <th>holiday</th>\n",
       "      <th>weekday</th>\n",
       "      <th>workingday</th>\n",
       "      <th>weathersit</th>\n",
       "      <th>temp</th>\n",
       "      <th>atemp</th>\n",
       "      <th>hum</th>\n",
       "      <th>windspeed</th>\n",
       "      <th>casual</th>\n",
       "      <th>registered</th>\n",
       "      <th>cnt</th>\n",
       "    </tr>\n",
       "  </thead>\n",
       "  <tbody>\n",
       "    <tr>\n",
       "      <th>0</th>\n",
       "      <td>1</td>\n",
       "      <td>2011-01-01</td>\n",
       "      <td>1</td>\n",
       "      <td>0</td>\n",
       "      <td>1</td>\n",
       "      <td>0</td>\n",
       "      <td>0</td>\n",
       "      <td>6</td>\n",
       "      <td>0</td>\n",
       "      <td>1</td>\n",
       "      <td>0.24</td>\n",
       "      <td>0.2879</td>\n",
       "      <td>0.81</td>\n",
       "      <td>0.0</td>\n",
       "      <td>3</td>\n",
       "      <td>13</td>\n",
       "      <td>16</td>\n",
       "    </tr>\n",
       "    <tr>\n",
       "      <th>1</th>\n",
       "      <td>2</td>\n",
       "      <td>2011-01-01</td>\n",
       "      <td>1</td>\n",
       "      <td>0</td>\n",
       "      <td>1</td>\n",
       "      <td>1</td>\n",
       "      <td>0</td>\n",
       "      <td>6</td>\n",
       "      <td>0</td>\n",
       "      <td>1</td>\n",
       "      <td>0.22</td>\n",
       "      <td>0.2727</td>\n",
       "      <td>0.80</td>\n",
       "      <td>0.0</td>\n",
       "      <td>8</td>\n",
       "      <td>32</td>\n",
       "      <td>40</td>\n",
       "    </tr>\n",
       "    <tr>\n",
       "      <th>2</th>\n",
       "      <td>3</td>\n",
       "      <td>2011-01-01</td>\n",
       "      <td>1</td>\n",
       "      <td>0</td>\n",
       "      <td>1</td>\n",
       "      <td>2</td>\n",
       "      <td>0</td>\n",
       "      <td>6</td>\n",
       "      <td>0</td>\n",
       "      <td>1</td>\n",
       "      <td>0.22</td>\n",
       "      <td>0.2727</td>\n",
       "      <td>0.80</td>\n",
       "      <td>0.0</td>\n",
       "      <td>5</td>\n",
       "      <td>27</td>\n",
       "      <td>32</td>\n",
       "    </tr>\n",
       "    <tr>\n",
       "      <th>3</th>\n",
       "      <td>4</td>\n",
       "      <td>2011-01-01</td>\n",
       "      <td>1</td>\n",
       "      <td>0</td>\n",
       "      <td>1</td>\n",
       "      <td>3</td>\n",
       "      <td>0</td>\n",
       "      <td>6</td>\n",
       "      <td>0</td>\n",
       "      <td>1</td>\n",
       "      <td>0.24</td>\n",
       "      <td>0.2879</td>\n",
       "      <td>0.75</td>\n",
       "      <td>0.0</td>\n",
       "      <td>3</td>\n",
       "      <td>10</td>\n",
       "      <td>13</td>\n",
       "    </tr>\n",
       "    <tr>\n",
       "      <th>4</th>\n",
       "      <td>5</td>\n",
       "      <td>2011-01-01</td>\n",
       "      <td>1</td>\n",
       "      <td>0</td>\n",
       "      <td>1</td>\n",
       "      <td>4</td>\n",
       "      <td>0</td>\n",
       "      <td>6</td>\n",
       "      <td>0</td>\n",
       "      <td>1</td>\n",
       "      <td>0.24</td>\n",
       "      <td>0.2879</td>\n",
       "      <td>0.75</td>\n",
       "      <td>0.0</td>\n",
       "      <td>0</td>\n",
       "      <td>1</td>\n",
       "      <td>1</td>\n",
       "    </tr>\n",
       "  </tbody>\n",
       "</table>\n",
       "</div>"
      ],
      "text/plain": [
       "   instant      dteday  season  yr  mnth  hr  holiday  weekday  workingday  \\\n",
       "0        1  2011-01-01       1   0     1   0        0        6           0   \n",
       "1        2  2011-01-01       1   0     1   1        0        6           0   \n",
       "2        3  2011-01-01       1   0     1   2        0        6           0   \n",
       "3        4  2011-01-01       1   0     1   3        0        6           0   \n",
       "4        5  2011-01-01       1   0     1   4        0        6           0   \n",
       "\n",
       "   weathersit  temp   atemp   hum  windspeed  casual  registered  cnt  \n",
       "0           1  0.24  0.2879  0.81        0.0       3          13   16  \n",
       "1           1  0.22  0.2727  0.80        0.0       8          32   40  \n",
       "2           1  0.22  0.2727  0.80        0.0       5          27   32  \n",
       "3           1  0.24  0.2879  0.75        0.0       3          10   13  \n",
       "4           1  0.24  0.2879  0.75        0.0       0           1    1  "
      ]
     },
     "execution_count": 1,
     "metadata": {},
     "output_type": "execute_result"
    }
   ],
   "source": [
    "# read in dataset\n",
    "import pandas as pd\n",
    "\n",
    "bike_rentals = pd.read_csv(\"bike_rental_hour.csv\")\n",
    "bike_rentals.head()"
   ]
  },
  {
   "cell_type": "code",
   "execution_count": 2,
   "metadata": {
    "collapsed": false
   },
   "outputs": [
    {
     "data": {
      "text/plain": [
       "<matplotlib.axes._subplots.AxesSubplot at 0x7f59187e4eb8>"
      ]
     },
     "execution_count": 2,
     "metadata": {},
     "output_type": "execute_result"
    },
    {
     "data": {
      "image/png": "[encoded data removed]",
      "text/plain": [
       "<matplotlib.figure.Figure at 0x7f591c4ffa90>"
      ]
     },
     "metadata": {},
     "output_type": "display_data"
    },
    {
     "data": {
      "image/png": "[encoded data removed]",
      "text/plain": [
       "<matplotlib.figure.Figure at 0x7f591881c1d0>"
      ]
     },
     "metadata": {},
     "output_type": "display_data"
    }
   ],
   "source": [
    "# run Jupyter magic function so that plots are displayed inline\n",
    "%matplotlib inline\n",
    "\n",
    "# make histogram of the cnt column to investigate distribution\n",
    "bike_rentals.hist(column=\"cnt\", bins=20)\n",
    "bike_rentals.plot(y=\"cnt\", kind=\"box\")"
   ]
  },
  {
   "cell_type": "markdown",
   "metadata": {},
   "source": [
    "From the histogram, we see that there are usually only 0-50 riders at any given hour. From the boxplot, we can see that the interquartile range is just shy of 700, with the median close to 100. This shows that this data is positively skewed."
   ]
  },
  {
   "cell_type": "code",
   "execution_count": 3,
   "metadata": {
    "collapsed": false
   },
   "outputs": [
    {
     "data": {
      "text/plain": [
       "instant       0.278379\n",
       "season        0.178056\n",
       "yr            0.250495\n",
       "mnth          0.120638\n",
       "hr            0.394071\n",
       "holiday      -0.030927\n",
       "weekday       0.026900\n",
       "workingday    0.030284\n",
       "weathersit   -0.142426\n",
       "temp          0.404772\n",
       "atemp         0.400929\n",
       "hum          -0.322911\n",
       "windspeed     0.093234\n",
       "casual        0.694564\n",
       "registered    0.972151\n",
       "cnt           1.000000\n",
       "Name: cnt, dtype: float64"
      ]
     },
     "execution_count": 3,
     "metadata": {},
     "output_type": "execute_result"
    },
    {
     "data": {
      "image/png": "[encoded data removed]",
      "text/plain": [
       "<matplotlib.figure.Figure at 0x7f596ab4ae10>"
      ]
     },
     "metadata": {},
     "output_type": "display_data"
    }
   ],
   "source": [
    "# use corr method of dataset to explore correlation between cnt and other variables\n",
    "cnt_corr = bike_rentals.corr()['cnt']\n",
    "\n",
    "cnt_corr.plot(kind=\"bar\", ylim=[-0.5,1], color=\"green\", rot=45)\n",
    "cnt_corr"
   ]
  },
  {
   "cell_type": "markdown",
   "metadata": {},
   "source": [
    "From the bar chart, we can see that the variables that are more correlated to our target are: hr, temp, atemp, hum, casual and registered.\n",
    "\n",
    "As cnt is the sum of casual and registered, it is obvious that the correlation will be high. It is not recommended that either variable is used because there is a direct arithmatic relationship between these two features with the target, hence there will be strong issue with collinearity.\n",
    "\n",
    "Other variables we can look in to are the hour of rental, temperature and humidity at the time of rentals."
   ]
  },
  {
   "cell_type": "markdown",
   "metadata": {},
   "source": [
    "## Calculating Features\n",
    "\n",
    "Before inputing veriables into a machine learning model, it is often helpful to process the variables to be better suited for our specific needs, and it will improve the readability of our results.\n",
    "\n",
    "We will look to convert 'hr' into a category variable with the following categories:\n",
    "* 1 if hr is from 6-12\n",
    "* 2 if hr is from 12-18\n",
    "* 3 if hr is from 18-24\n",
    "* 4 if hr is from 0-6"
   ]
  },
  {
   "cell_type": "code",
   "execution_count": 4,
   "metadata": {
    "collapsed": false
   },
   "outputs": [],
   "source": [
    "def assign_label(x):\n",
    "    if 6 <= x < 12:\n",
    "        return 1\n",
    "    if 12 <= x < 18:\n",
    "        return 2\n",
    "    if 18 <= x <= 24:\n",
    "        return 3\n",
    "    if 0 <= x < 6:\n",
    "        return 4\n",
    "    \n",
    "bike_rentals[\"time_label\"] = bike_rentals[\"hr\"].apply(lambda h: assign_label(h))"
   ]
  },
  {
   "cell_type": "markdown",
   "metadata": {},
   "source": [
    "## Splitting the Data into Train and Test Sets\n",
    "\n",
    "We split the dataset into train and test sets because after calculating model specification with the training set, we will need to test the model against the data from the test set to evaluate the accuracy of the model.\n",
    "\n",
    "If a model is evaluated against the same data that it was trained on, the error value will be uncharacteristically low due to overfitting.\n",
    "\n",
    "The error metric we will choose to evaluate the performance of the machine learning algorithms is the root mean squared error. We first find the mean squared error before taking root to calculate the sum of distances between each prediction from the actual values. An accurate model will provide better predictions, therefore the this metric will be low, and this is what we will aim when comparing between models."
   ]
  },
  {
   "cell_type": "code",
   "execution_count": 5,
   "metadata": {
    "collapsed": false
   },
   "outputs": [],
   "source": [
    "# splitting dataset with 80% in train and the rest in test\n",
    "train = bike_rentals.sample(frac=0.8)\n",
    "test = bike_rentals.loc[~bike_rentals.index.isin(train.index)]"
   ]
  },
  {
   "cell_type": "markdown",
   "metadata": {},
   "source": [
    "## Applying Linear Regression\n",
    "\n",
    "After our initial data exploration, we find that the linear regression is likely to be a good model because many of the columns are highly correlated with our target.\n",
    "\n",
    "We need to ignore casual and registered since cnt is derived from them, hence they are not independent from each other.\n",
    "\n",
    "Linear regression models are more prone to underfitting than overfitting due to its model simplicity, hence a more robust selection might be beneficial in cases."
   ]
  },
  {
   "cell_type": "code",
   "execution_count": 6,
   "metadata": {
    "collapsed": false
   },
   "outputs": [
    {
     "data": {
      "text/plain": [
       "139.37209055850136"
      ]
     },
     "execution_count": 6,
     "metadata": {},
     "output_type": "execute_result"
    }
   ],
   "source": [
    "# selecting features\n",
    "features = train.columns.drop([\"cnt\", \"casual\", \"registered\", \"dteday\",\n",
    "                              \"season\", \"mnth\", \"holiday\", \"weekday\",\n",
    "                              \"workingday\", \"weathersit\", \"windspeed\", \"hr\"])\n",
    "\n",
    "# use linear regression class mfrom sklearn to train a model\n",
    "from sklearn.linear_model import LinearRegression\n",
    "from sklearn.metrics import mean_squared_error\n",
    "import numpy as np\n",
    "\n",
    "# instantiate the model class\n",
    "lr = LinearRegression()\n",
    "\n",
    "# train model with feature on target\n",
    "lr.fit(train[features], train[\"cnt\"])\n",
    "# test model on test dataset\n",
    "predictions = lr.predict(test[features])\n",
    "\n",
    "# calculate RMSE of model\n",
    "lr_mse = mean_squared_error(test[\"cnt\"], predictions)\n",
    "lr_rmse = np.sqrt(lr_mse)\n",
    "\n",
    "lr_rmse"
   ]
  },
  {
   "cell_type": "markdown",
   "metadata": {},
   "source": [
    "We have opted to keep variables with higher correlations, which is approximately above an aribitary 0.4 and below -0.3 threshold, and dropped all other features.\n",
    "\n",
    "We then fitted the data on a linear regerssion model and calculated the root mean squred error."
   ]
  },
  {
   "cell_type": "markdown",
   "metadata": {},
   "source": [
    "## Applying Decision Trees\n",
    "\n",
    "Now we will apply the decision tree algorithm. We expect a lower error value compared to the linear regression model because decision trees tend to predict outcomes much more reliably than linear regression models.\n",
    "\n",
    "As a fairly complex model, decision trees are more prone to overfitting, hence we should pay special attention to the hyperparameter adjustments for such models (max depth, min number of samples per leaf... etc). They are also more suspectable to instability, where small changes to the input data can result in a vastly different output model."
   ]
  },
  {
   "cell_type": "code",
   "execution_count": 7,
   "metadata": {
    "collapsed": false
   },
   "outputs": [
    {
     "data": {
      "text/plain": [
       "139.25638035887593"
      ]
     },
     "execution_count": 7,
     "metadata": {},
     "output_type": "execute_result"
    }
   ],
   "source": [
    "# fit a decision tree algorithm to train data\n",
    "from sklearn.tree import DecisionTreeRegressor\n",
    "\n",
    "dtr = DecisionTreeRegressor()\n",
    "\n",
    "dtr.fit(train[features], train[\"cnt\"])\n",
    "predictions = dtr.predict(test[features])\n",
    "\n",
    "dtr_mse = mean_squared_error(test[\"cnt\"], predictions)\n",
    "dtr_rmse = np.sqrt(dtr_mse)\n",
    "\n",
    "dtr_rmse"
   ]
  },
  {
   "cell_type": "code",
   "execution_count": 8,
   "metadata": {
    "collapsed": false
   },
   "outputs": [
    {
     "data": {
      "text/plain": [
       "[122.96890070679838,\n",
       " 132.02185180433452,\n",
       " 132.02185180433452,\n",
       " 120.36983761908913]"
      ]
     },
     "execution_count": 8,
     "metadata": {},
     "output_type": "execute_result"
    }
   ],
   "source": [
    "# adjusting specifications in the algorithm to improve model\n",
    "dtr_adj_rmse = []\n",
    "# min samples leaf\n",
    "dtr = DecisionTreeRegressor(min_samples_leaf=10)\n",
    "\n",
    "dtr.fit(train[features], train[\"cnt\"])\n",
    "predictions = dtr.predict(test[features])\n",
    "\n",
    "dtr_mse = mean_squared_error(test[\"cnt\"], predictions)\n",
    "dtr_rmse = np.sqrt(dtr_mse)\n",
    "dtr_adj_rmse.append(dtr_rmse)\n",
    "\n",
    "# max depth\n",
    "dtr = DecisionTreeRegressor(max_depth=3)\n",
    "\n",
    "dtr.fit(train[features], train[\"cnt\"])\n",
    "predictions = dtr.predict(test[features])\n",
    "\n",
    "dtr_mse = mean_squared_error(test[\"cnt\"], predictions)\n",
    "dtr_rmse = np.sqrt(dtr_mse)\n",
    "dtr_adj_rmse.append(dtr_rmse)\n",
    "\n",
    "# min samples leaf, max depth\n",
    "dtr = DecisionTreeRegressor(min_samples_leaf=10, max_depth=3)\n",
    "\n",
    "dtr.fit(train[features], train[\"cnt\"])\n",
    "predictions = dtr.predict(test[features])\n",
    "\n",
    "dtr_mse = mean_squared_error(test[\"cnt\"], predictions)\n",
    "dtr_rmse = np.sqrt(dtr_mse)\n",
    "dtr_adj_rmse.append(dtr_rmse)\n",
    "\n",
    "# min samples leaf\n",
    "dtr = DecisionTreeRegressor(min_samples_leaf=30)\n",
    "\n",
    "dtr.fit(train[features], train[\"cnt\"])\n",
    "predictions = dtr.predict(test[features])\n",
    "\n",
    "dtr_mse = mean_squared_error(test[\"cnt\"], predictions)\n",
    "dtr_rmse = np.sqrt(dtr_mse)\n",
    "dtr_adj_rmse.append(dtr_rmse)\n",
    "\n",
    "dtr_adj_rmse"
   ]
  },
  {
   "cell_type": "markdown",
   "metadata": {},
   "source": [
    "We find that the error from the default algorithm is higher than that of the linear regression model. As explained previously, we suspect this is due to the algorithm being overfitted, hence we will adjust a few parameters to try and improve the model.\n",
    "\n",
    "We choose to set the minimum number of samples in each leaf to 10 and max depth to 3, and found that the best model is when we adjust min sample per leaf to be larger than the default 1. Adjustments to max depth was actually counterproductive, and this is because we have only selected 6 features to train our models on, hence max depth for the algorithm is already quite restricted.\n",
    "\n",
    "The model with the lowest error is the model where we set min sample count at 30 per leaf."
   ]
  },
  {
   "cell_type": "markdown",
   "metadata": {},
   "source": [
    "## Applying Random Forests\n",
    "\n",
    "We will now move on to applying random forest algorithm, which in essence is an average of many decision trees. This method improves on the decision tree algorithm because they usually overfit less than decision trees, but are more complex than simple linear regression.\n",
    "\n",
    "However, random forest models are still prone to overfitting, so it is important to improve the model by tuning the parameters."
   ]
  },
  {
   "cell_type": "code",
   "execution_count": 9,
   "metadata": {
    "collapsed": false
   },
   "outputs": [
    {
     "data": {
      "text/plain": [
       "112.8005906876984"
      ]
     },
     "execution_count": 9,
     "metadata": {},
     "output_type": "execute_result"
    }
   ],
   "source": [
    "# fit a random forest algorithm to train data\n",
    "from sklearn.ensemble import RandomForestRegressor\n",
    "\n",
    "clf = RandomForestRegressor()\n",
    "clf.fit(train[features], train[\"cnt\"])\n",
    "predictions = clf.predict(test[features])\n",
    "clf_mse = mean_squared_error(test[\"cnt\"], predictions)\n",
    "clf_rmse = np.sqrt(clf_mse)\n",
    "clf_rmse"
   ]
  },
  {
   "cell_type": "code",
   "execution_count": 10,
   "metadata": {
    "collapsed": false
   },
   "outputs": [
    {
     "data": {
      "text/plain": [
       "[116.08425053458994, 117.70170836173475, 108.30459618676561]"
      ]
     },
     "execution_count": 10,
     "metadata": {},
     "output_type": "execute_result"
    }
   ],
   "source": [
    "# tune parameters of random forest for improvement\n",
    "clf_adj_rmse = []\n",
    "\n",
    "# min sample leaves\n",
    "clf = RandomForestRegressor(min_samples_leaf=20)\n",
    "clf.fit(train[features], train[\"cnt\"])\n",
    "predictions = clf.predict(test[features])\n",
    "clf_mse = mean_squared_error(test[\"cnt\"], predictions)\n",
    "clf_rmse = np.sqrt(clf_mse)\n",
    "clf_adj_rmse.append(clf_rmse)\n",
    "\n",
    "# min sample leaves\n",
    "clf = RandomForestRegressor(min_samples_leaf=30)\n",
    "clf.fit(train[features], train[\"cnt\"])\n",
    "predictions = clf.predict(test[features])\n",
    "clf_mse = mean_squared_error(test[\"cnt\"], predictions)\n",
    "clf_rmse = np.sqrt(clf_mse)\n",
    "clf_adj_rmse.append(clf_rmse)\n",
    "\n",
    "# number of trees to fit\n",
    "clf = RandomForestRegressor(n_estimators=200)\n",
    "clf.fit(train[features], train[\"cnt\"])\n",
    "predictions = clf.predict(test[features])\n",
    "clf_mse = mean_squared_error(test[\"cnt\"], predictions)\n",
    "clf_rmse = np.sqrt(clf_mse)\n",
    "clf_adj_rmse.append(clf_rmse)\n",
    "\n",
    "clf_adj_rmse"
   ]
  },
  {
   "cell_type": "markdown",
   "metadata": {},
   "source": [
    "We tried tuning the minimum of samples per leaf, as well as the number of trees to estimate before averaging to find avearge error.\n",
    "\n",
    "We found that the default parameters are most suitable for our case. This is because even if we were able to improve the model with higher number of trees in the forest, the computational effort is visibly higher and hence not the most efficient model. Increasing number of samples per leaf does not seem to improve the model in this case."
   ]
  },
  {
   "cell_type": "markdown",
   "metadata": {},
   "source": [
    "## Conclusion\n",
    "\n",
    "We have used three algorithms to predict the number of rental bikes that were borrowed at a given hour. We were able to improve the prediction accuracy as we increase the complexity of the algorithm adopted. However, this is only true up to certain point, beyond such, the model will be overfitted and accuracy of the predictions will decrease.\n",
    "\n",
    "We were able to also make adjustments to the model parameters to reduce the error metric."
   ]
  },
  {
   "cell_type": "markdown",
   "metadata": {},
   "source": [
    "## Potential next steps:\n",
    "* calculate additional features\n",
    "    * further processing of chosen features\n",
    "* change target variable from cnt to causal and/or registered"
   ]
  }
 ],
 "metadata": {
  "kernelspec": {
   "display_name": "Python 3",
   "language": "python",
   "name": "python3"
  },
  "language_info": {
   "codemirror_mode": {
    "name": "ipython",
    "version": 3
   },
   "file_extension": ".py",
   "mimetype": "text/x-python",
   "name": "python",
   "nbconvert_exporter": "python",
   "pygments_lexer": "ipython3",
   "version": "3.4.3"
  }
 },
 "nbformat": 4,
 "nbformat_minor": 0
}
